{
 "cells": [
  {
   "cell_type": "code",
   "execution_count": 1,
   "id": "63beebe1-b423-4644-81f4-768077ceb032",
   "metadata": {},
   "outputs": [
    {
     "name": "stdin",
     "output_type": "stream",
     "text": [
      "Enter a number 23\n",
      "Enter another number 45\n"
     ]
    },
    {
     "name": "stdout",
     "output_type": "stream",
     "text": [
      "68\n"
     ]
    }
   ],
   "source": [
    "#Write a program that takes two numbers as input and prints their sum.\n",
    "num1=int(input(\"Enter a number\"))\n",
    "num2=int(input(\"Enter another number\"))\n",
    "print(num1+num2)"
   ]
  },
  {
   "cell_type": "code",
   "execution_count": 5,
   "id": "efcbc575-d38a-4587-8511-6ac708aaa4c7",
   "metadata": {},
   "outputs": [
    {
     "name": "stdin",
     "output_type": "stream",
     "text": [
      "Enter a number 23\n"
     ]
    },
    {
     "name": "stdout",
     "output_type": "stream",
     "text": [
      "Odd\n"
     ]
    }
   ],
   "source": [
    "#Write a python program that checks whether a given number is even or odd.\n",
    "num1=int(input(\"Enter a number\"))\n",
    "if(num1%2==0):\n",
    "    print(\"Even\")\n",
    "\n",
    "else : print(\"Odd\")"
   ]
  },
  {
   "cell_type": "code",
   "execution_count": 7,
   "id": "fa5bef07-9613-4b6b-974c-2fe0886ceca3",
   "metadata": {},
   "outputs": [
    {
     "name": "stdin",
     "output_type": "stream",
     "text": [
      "Enter a number 4\n"
     ]
    },
    {
     "name": "stdout",
     "output_type": "stream",
     "text": [
      "24\n"
     ]
    }
   ],
   "source": [
    "#Write a python program that calculates the factorial of a given number\n",
    "num1=int(input(\"Enter a number\"))\n",
    "fact=1\n",
    "for i in range(1,num1+1):\n",
    "    fact*=i\n",
    "print(fact)"
   ]
  },
  {
   "cell_type": "code",
   "execution_count": 8,
   "id": "8172832e-aa76-481d-90a5-fa3cca198f7d",
   "metadata": {},
   "outputs": [
    {
     "name": "stdin",
     "output_type": "stream",
     "text": [
      "Enter your name Yashika\n"
     ]
    },
    {
     "name": "stdout",
     "output_type": "stream",
     "text": [
      "Hello, Yashika\n"
     ]
    }
   ],
   "source": [
    "#Write a program that asks the user for their name and then prints a greeting message\n",
    "username=input(\"Enter your name\")\n",
    "print(\"Hello, \"+username)"
   ]
  },
  {
   "cell_type": "code",
   "execution_count": 65,
   "id": "f45c965a-f0ed-4ba1-bdb7-006f23549b6b",
   "metadata": {},
   "outputs": [
    {
     "name": "stdin",
     "output_type": "stream",
     "text": [
      "Enter the text you want to write to the file:  Hello\n",
      "Enter the filename to save the text to:  fileInput.txt\n"
     ]
    },
    {
     "name": "stdout",
     "output_type": "stream",
     "text": [
      "Successfully wrote 'Hello' to 'fileInput.txt'.\n"
     ]
    }
   ],
   "source": [
    "# Write a program that takes a string input from the user and writes it to a text file.\n",
    "def write_to_file(text, filename):\n",
    "    try:\n",
    "        with open(filename, 'w') as f:\n",
    "            f.write(text)\n",
    "        print(f\"Successfully wrote '{text}' to '{filename}'.\")\n",
    "    except Exception as e:\n",
    "        print(f\"Error occurred while writing to '{filename}': {str(e)}\")\n",
    "\n",
    "user_input = input(\"Enter the text you want to write to the file: \")\n",
    "filename = input(\"Enter the filename to save the text to: \")\n",
    "write_to_file(user_input, filename)"
   ]
  },
  {
   "cell_type": "code",
   "execution_count": 67,
   "id": "1d9f3e0d-94ee-4e83-97b4-09d2ea477615",
   "metadata": {},
   "outputs": [
    {
     "name": "stdin",
     "output_type": "stream",
     "text": [
      "Enter the filename to read:  fileInput.txt\n"
     ]
    },
    {
     "name": "stdout",
     "output_type": "stream",
     "text": [
      "Content of 'fileInput.txt':\n",
      "Hello\n"
     ]
    }
   ],
   "source": [
    "# Write a program that reads the content of a text file and prints it to the console.\n",
    "def read_and_print_file(filename):\n",
    "    try:\n",
    "        with open(filename, 'r') as f:\n",
    "            content = f.read()\n",
    "            print(f\"Content of '{filename}':\")\n",
    "            print(content)\n",
    "    except FileNotFoundError:\n",
    "        print(f\"Error: File '{filename}' not found.\")\n",
    "    except Exception as e:\n",
    "        print(f\"Error occurred while reading '{filename}': {str(e)}\")\n",
    "\n",
    "filename = input(\"Enter the filename to read: \")\n",
    "read_and_print_file(filename)"
   ]
  },
  {
   "cell_type": "code",
   "execution_count": 10,
   "id": "7140fa9c-e484-49d9-8c94-191b8c0689fc",
   "metadata": {},
   "outputs": [
    {
     "name": "stdin",
     "output_type": "stream",
     "text": [
      "Enter a string yashika\n"
     ]
    },
    {
     "name": "stdout",
     "output_type": "stream",
     "text": [
      "7\n"
     ]
    }
   ],
   "source": [
    "# Write a python program that takes a string as input and returns its length.\n",
    "str=input(\"Enter a string\")\n",
    "print(len(str))"
   ]
  },
  {
   "cell_type": "code",
   "execution_count": 11,
   "id": "6e2e9301-c750-4c6b-9cab-5b1a6d234a63",
   "metadata": {},
   "outputs": [
    {
     "name": "stdin",
     "output_type": "stream",
     "text": [
      "Enter a string string\n",
      "Enter a string concatenated\n"
     ]
    },
    {
     "name": "stdout",
     "output_type": "stream",
     "text": [
      "stringconcatenated\n"
     ]
    }
   ],
   "source": [
    "# Write a python program that concatenates two strings and returns the result.\n",
    "str=input(\"Enter a string\")\n",
    "astr=input(\"Enter a string\")\n",
    "print(str+astr)"
   ]
  },
  {
   "cell_type": "code",
   "execution_count": 13,
   "id": "20afce00-00e8-410e-9d6f-298a43830c99",
   "metadata": {},
   "outputs": [
    {
     "name": "stdout",
     "output_type": "stream",
     "text": [
      "True\n"
     ]
    }
   ],
   "source": [
    "# Write a python program that checks if a substring is present in a given string.\n",
    "main_string = \"Hello, welcome to the world of Python programming!\"\n",
    "substring = \"Python\"\n",
    "print(substring in main_string)"
   ]
  },
  {
   "cell_type": "code",
   "execution_count": 14,
   "id": "56ba4fe4-87c9-49f7-9236-3e265949edab",
   "metadata": {},
   "outputs": [
    {
     "name": "stdout",
     "output_type": "stream",
     "text": [
      "HELLO, WELCOME TO THE WORLD OF PYTHON PROGRAMMING!\n"
     ]
    }
   ],
   "source": [
    "# Write a python program that converts a given string to uppercase\n",
    "main_string = \"Hello, welcome to the world of Python programming!\"\n",
    "newStr=main_string.upper()\n",
    "print(newStr)"
   ]
  },
  {
   "cell_type": "code",
   "execution_count": 21,
   "id": "389cb201-5f57-4d4d-80be-e36ea8bfb8af",
   "metadata": {},
   "outputs": [
    {
     "data": {
      "text/plain": [
       "[0, 1, 1, 2]"
      ]
     },
     "execution_count": 21,
     "metadata": {},
     "output_type": "execute_result"
    }
   ],
   "source": [
    "# Write a python program that generates the first n numbers in the Fibonacci sequence.\n",
    "def fibonacci(n):\n",
    "    if n <= 0:\n",
    "        return []\n",
    "    fibonacci_sequence = [0, 1]\n",
    "    for i in range(2, n):\n",
    "        next_number = fibonacci_sequence[-1] + fibonacci_sequence[-2]\n",
    "        fibonacci_sequence.append(next_number)\n",
    "\n",
    "    return fibonacci_sequence[:n]\n",
    "\n",
    "fibonacci(4)"
   ]
  },
  {
   "cell_type": "code",
   "execution_count": 29,
   "id": "d9053be0-d0be-496b-aef4-9dbb738238e9",
   "metadata": {},
   "outputs": [
    {
     "name": "stdout",
     "output_type": "stream",
     "text": [
      "6\n"
     ]
    }
   ],
   "source": [
    "# Write a python program that calculates the sum of the digits of a given number\n",
    "def sumDigits(n):\n",
    "    if(n==0) : return n\n",
    "    else:\n",
    "        return (n%10)+ sumDigits(n//10)\n",
    "\n",
    "print(sumDigits(123))"
   ]
  },
  {
   "cell_type": "code",
   "execution_count": 32,
   "id": "ee94f217-13ca-437d-a882-bc99b18eb589",
   "metadata": {},
   "outputs": [
    {
     "name": "stdout",
     "output_type": "stream",
     "text": [
      "25\n"
     ]
    }
   ],
   "source": [
    "# Write a program that asks the user for their birth year and calculates their age\n",
    "from datetime import datetime\n",
    "def calAge(birth_year):\n",
    "    presentYear=datetime.now().year\n",
    "    return presentYear-birth_year\n",
    "\n",
    "print(calAge(1999))"
   ]
  },
  {
   "cell_type": "code",
   "execution_count": null,
   "id": "c59e979d-4cb2-4edf-898f-2b77c23f1049",
   "metadata": {},
   "outputs": [],
   "source": [
    "# Write a program that reads multiple lines of input from the user until they enter an empty line, then prints all the lines.\n",
    "def read_multiple_lines():\n",
    "    lines = []\n",
    "    while True:\n",
    "        line = input(\"Enter a line (or press Enter to finish): \")\n",
    "        if line == \"\":\n",
    "            break\n",
    "        lines.append(line)\n",
    "    \n",
    "    if lines:\n",
    "        print(\"\\nAll lines entered:\")\n",
    "        for line in lines:\n",
    "            print(line)\n",
    "    else:\n",
    "        print(\"No lines entered.\")\n",
    "\n",
    "def main():\n",
    "    read_multiple_lines()\n"
   ]
  },
  {
   "cell_type": "code",
   "execution_count": 75,
   "id": "be04b81b-085c-43df-bcea-73623cc6f11b",
   "metadata": {},
   "outputs": [
    {
     "name": "stdin",
     "output_type": "stream",
     "text": [
      "Enter the CSV filename to read:  fileInput.txt\n"
     ]
    },
    {
     "name": "stdout",
     "output_type": "stream",
     "text": [
      "Contents of 'fileInput.txt':\n",
      "Hello\n"
     ]
    }
   ],
   "source": [
    "# Write a program that reads data from a CSV file and prints it to the console.\n",
    "import csv\n",
    "\n",
    "def read_csv_file(filename):\n",
    "    try:\n",
    "        with open(filename, 'r', newline='') as csvfile:\n",
    "            csvreader = csv.reader(csvfile)\n",
    "            print(f\"Contents of '{filename}':\")\n",
    "            for row in csvreader:\n",
    "                print(', '.join(row))\n",
    "    except FileNotFoundError:\n",
    "        print(f\"Error: File '{filename}' not found.\")\n",
    "    except Exception as e:\n",
    "        print(f\"Error occurred while reading '{filename}': {str(e)}\")\n",
    "\n",
    "filename = input(\"Enter the CSV filename to read: \")\n",
    "read_csv_file(filename)"
   ]
  },
  {
   "cell_type": "code",
   "execution_count": 72,
   "id": "a233d763-d80e-4c3f-a8b9-38eab48a08ae",
   "metadata": {},
   "outputs": [
    {
     "name": "stdin",
     "output_type": "stream",
     "text": [
      "Enter a string:  Yashika\n"
     ]
    },
    {
     "name": "stdout",
     "output_type": "stream",
     "text": [
      "\n",
      "Character frequencies:\n",
      "'Y' : 1\n",
      "'a' : 2\n",
      "'s' : 1\n",
      "'h' : 1\n",
      "'i' : 1\n",
      "'k' : 1\n"
     ]
    }
   ],
   "source": [
    "# Write a program in python that counts the frequency of each character in a string.\n",
    "def count_character_frequency(input_string):\n",
    "    frequency = {}\n",
    "    for char in input_string:\n",
    "        if char in frequency:\n",
    "            frequency[char] += 1\n",
    "        else:\n",
    "            frequency[char] = 1\n",
    "    return frequency\n",
    "\n",
    "input_string = input(\"Enter a string: \")\n",
    "frequency = count_character_frequency(input_string)\n",
    "print(\"\\nCharacter frequencies:\")\n",
    "for char, count in frequency.items():\n",
    "        print(f\"'{char}' : {count}\")"
   ]
  },
  {
   "cell_type": "code",
   "execution_count": 69,
   "id": "a2a7e3b4-9f7f-4bec-b15e-fb6327f22abc",
   "metadata": {},
   "outputs": [
    {
     "name": "stdout",
     "output_type": "stream",
     "text": [
      "Hello, Welcome To The World Of Python Programming!\n"
     ]
    }
   ],
   "source": [
    "# Write a program in python that converts a given string to title case\n",
    "main_string = \"Hello, welcome to the world of python programming!\"\n",
    "print(main_string.title())"
   ]
  },
  {
   "cell_type": "code",
   "execution_count": 37,
   "id": "a2fc976f-036f-43b6-912e-492fedace205",
   "metadata": {},
   "outputs": [
    {
     "name": "stdout",
     "output_type": "stream",
     "text": [
      "anagrams\n"
     ]
    }
   ],
   "source": [
    "# Write a python program that checks if two strings are anagrams of each other.\n",
    "def are_anagrams(str1, str2):\n",
    "    str1=str1.replace(\" \",\"\").lower()\n",
    "    str2=str2.replace(\" \",\"\").lower()\n",
    "    sorted_str1=sorted(str1)\n",
    "    sorted_str2=sorted(str2)\n",
    "    return sorted_str1== sorted_str2\n",
    "\n",
    "string1 = \"Listen\"\n",
    "string2 = \"Silent\"\n",
    "\n",
    "if (are_anagrams(string1, string2)):\n",
    "    print(\"anagrams\")\n",
    "else:\n",
    "    print(\"not anagrams.\")"
   ]
  },
  {
   "cell_type": "code",
   "execution_count": 40,
   "id": "0cb42fdd-d9c2-493a-847c-37b7c479c9aa",
   "metadata": {},
   "outputs": [
    {
     "name": "stdout",
     "output_type": "stream",
     "text": [
      "Original string: Hello, world! Welcome to @Python programming.\n",
      "String without punctuation: Hello world Welcome to Python programming\n"
     ]
    }
   ],
   "source": [
    "# Write a python program that removes all punctuation from a given string.\n",
    "\n",
    "def remove_punctuation(input_string):\n",
    "    punctuation_char = '''!()-[]{};:'\"\\,<>./?@#$%^&*_~'''\n",
    "    clean_string =\"\"\n",
    "    for char in input_string:\n",
    "        if char not in punctuation_char:\n",
    "            clean_string+=char\n",
    "    return clean_string\n",
    "\n",
    "input_string = \"Hello, world! Welcome to @Python programming.\"\n",
    "clean_string = remove_punctuation(input_string)\n",
    "print(\"Original string:\", input_string)\n",
    "print(\"String without punctuation:\", clean_string)"
   ]
  },
  {
   "cell_type": "code",
   "execution_count": 43,
   "id": "12b79698-0a89-42f7-8ad7-f35c0e9e4c7d",
   "metadata": {},
   "outputs": [
    {
     "name": "stdout",
     "output_type": "stream",
     "text": [
      "60\n"
     ]
    }
   ],
   "source": [
    "# Write a python program that takes a list of numbers and returns their sum.\n",
    "def sum(list):\n",
    "    sum=0\n",
    "    for num in list:\n",
    "        sum+=num\n",
    "    return sum\n",
    "\n",
    "list=[10,20,30]\n",
    "print(sum(list))"
   ]
  },
  {
   "cell_type": "code",
   "execution_count": 46,
   "id": "771c03b9-2cda-4bec-ab04-21d5b1536824",
   "metadata": {},
   "outputs": [
    {
     "name": "stdout",
     "output_type": "stream",
     "text": [
      "4\n"
     ]
    }
   ],
   "source": [
    "# Write a python program that counts the occurrences of a specific element in a list\n",
    "def countOccurence(list,key):\n",
    "    count=0\n",
    "    for num in list:\n",
    "        if(num==key):\n",
    "            count+=1\n",
    "    return count\n",
    "\n",
    "list=[10,20,10,30,10,10]\n",
    "print(countOccurence(list,10))"
   ]
  },
  {
   "cell_type": "code",
   "execution_count": 48,
   "id": "63d90b8f-ca6c-4345-8d70-ad06303d48b2",
   "metadata": {},
   "outputs": [
    {
     "name": "stdout",
     "output_type": "stream",
     "text": [
      "8\n",
      "1\n"
     ]
    }
   ],
   "source": [
    "# Write a python program that returns the minimum and maximum values in a list of numbers.\n",
    "numbers = [3, 8, 1, 6, 2]\n",
    "max_value = max(numbers)\n",
    "print(max_value)\n",
    "min_value = min(numbers)\n",
    "print(min_value)\n",
    "        "
   ]
  },
  {
   "cell_type": "code",
   "execution_count": 49,
   "id": "1beaa435-9f84-4154-8d07-a7cd37a8052e",
   "metadata": {},
   "outputs": [
    {
     "name": "stdin",
     "output_type": "stream",
     "text": [
      "Enter temperature in Celsius:  45\n"
     ]
    },
    {
     "name": "stdout",
     "output_type": "stream",
     "text": [
      "113.0\n"
     ]
    },
    {
     "name": "stdin",
     "output_type": "stream",
     "text": [
      "Enter temperature in Fahrenheit:  113\n"
     ]
    },
    {
     "name": "stdout",
     "output_type": "stream",
     "text": [
      "45.0\n"
     ]
    }
   ],
   "source": [
    "# Write a program that converts temperature from Celsius to Fahrenheit and vice versa based on user input\n",
    "def celsius_to_fahrenheit(celsius):\n",
    "    return (celsius * 9/5) + 32\n",
    "\n",
    "def fahrenheit_to_celsius(fahrenheit):\n",
    "    return (fahrenheit - 32) * 5/9\n",
    "\n",
    "celsius = float(input(\"Enter temperature in Celsius: \"))\n",
    "fahrenheit = celsius_to_fahrenheit(celsius)\n",
    "print(fahrenheit)\n",
    "\n",
    "fahrenheit = float(input(\"Enter temperature in Fahrenheit: \"))\n",
    "celsius = fahrenheit_to_celsius(fahrenheit)\n",
    "print(celsius)"
   ]
  },
  {
   "cell_type": "code",
   "execution_count": 54,
   "id": "428f266f-4635-424a-967c-28df9c4aa30a",
   "metadata": {},
   "outputs": [
    {
     "name": "stdout",
     "output_type": "stream",
     "text": [
      "33\n",
      "13\n",
      "230\n",
      "2.3\n"
     ]
    }
   ],
   "source": [
    "# Write a program that acts as a simple calculator. It should take two numbers and an operator (+, -, *, /) as input and print the result.\n",
    "def add(x, y):\n",
    "    return x + y\n",
    "\n",
    "def subtract(x, y):\n",
    "    return x - y\n",
    "\n",
    "def multiply(x, y):\n",
    "    return x * y\n",
    "\n",
    "def divide(x, y):\n",
    "    if y == 0:\n",
    "        return \"Error: Division by zero!\"\n",
    "    return x / y\n",
    "\n",
    "num1=23\n",
    "num2=10\n",
    "sum = add(num1, num2)\n",
    "print(sum)\n",
    "sub = subtract(num1, num2)\n",
    "print(sub)\n",
    "mul = multiply(num1, num2)\n",
    "print(mul)\n",
    "result = divide(num1, num2)\n",
    "print(result)"
   ]
  },
  {
   "cell_type": "code",
   "execution_count": null,
   "id": "26e1b4c8-2205-43d3-9e7f-29033eb7abf3",
   "metadata": {},
   "outputs": [],
   "source": [
    "# Write a program that copies the contents of one text file to another\n",
    "def copy_file(source_file, destination_file):\n",
    "    try:\n",
    "        with open(source_file, 'r') as f1, open(destination_file, 'w') as f2:\n",
    "            content = f1.read()\n",
    "            f2.write(content)\n",
    "        print(f\"Contents copied from {source_file} to {destination_file} successfully.\")\n",
    "    except FileNotFoundError:\n",
    "        print(\"One or both files not found.\")\n",
    "    except Exception as e:\n",
    "        print(f\"An error occurred: {str(e)}\")\n",
    "\n",
    "source_file = 'source.txt'\n",
    "destination_file = 'destination.txt'\n",
    "copy_file(source_file, destination_file)"
   ]
  },
  {
   "cell_type": "code",
   "execution_count": 56,
   "id": "a6fcdae9-fd62-414f-9249-ca9dbb693d3d",
   "metadata": {},
   "outputs": [
    {
     "name": "stdout",
     "output_type": "stream",
     "text": [
      "True\n",
      "False\n"
     ]
    }
   ],
   "source": [
    "# Write a program in python that checks if a string starts with a given prefix or ends with a given suffix.\n",
    "def starts_with_prefix(string, prefix):\n",
    "    return string.startswith(prefix)\n",
    "\n",
    "def ends_with_suffix(string, suffix):\n",
    "    return string.endswith(suffix)\n",
    "\n",
    "input_string = \"Hello, amazing world!\"\n",
    "prefix = \"Hello\"\n",
    "suffix = \"world!\"\n",
    "print(starts_with_prefix(input_string,prefix))\n",
    "print(ends_with_suffix(input_string,suffix))"
   ]
  },
  {
   "cell_type": "code",
   "execution_count": 63,
   "id": "6f491cdc-cbfb-4226-a729-4c1e740504e7",
   "metadata": {},
   "outputs": [
    {
     "name": "stdout",
     "output_type": "stream",
     "text": [
      "['P', 'y', 't', 'h', 'o', 'n']\n"
     ]
    }
   ],
   "source": [
    "# Write a program in python that converts a string into a list of its characters.\n",
    "def string_to_list(input_string):\n",
    "    result = []\n",
    "    for char in input_string:\n",
    "        result.append(char)\n",
    "    return result\n",
    "\n",
    "input_string = \"Python\"\n",
    "char_list = string_to_list(input_string)\n",
    "print(char_list)\n"
   ]
  },
  {
   "cell_type": "code",
   "execution_count": null,
   "id": "1a7cd6a3-cb67-4d27-b508-750f74cc3340",
   "metadata": {},
   "outputs": [],
   "source": []
  }
 ],
 "metadata": {
  "kernelspec": {
   "display_name": "Python 3 (ipykernel)",
   "language": "python",
   "name": "python3"
  },
  "language_info": {
   "codemirror_mode": {
    "name": "ipython",
    "version": 3
   },
   "file_extension": ".py",
   "mimetype": "text/x-python",
   "name": "python",
   "nbconvert_exporter": "python",
   "pygments_lexer": "ipython3",
   "version": "3.11.7"
  }
 },
 "nbformat": 4,
 "nbformat_minor": 5
}
